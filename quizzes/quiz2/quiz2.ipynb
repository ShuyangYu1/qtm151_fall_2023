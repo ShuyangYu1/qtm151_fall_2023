{
 "cells": [
  {
   "attachments": {},
   "cell_type": "markdown",
   "metadata": {},
   "source": [
    "# <span style=\"color:darkblue\"> QTM 151 - Quiz 2 </span>"
   ]
  },
  {
   "attachments": {},
   "cell_type": "markdown",
   "metadata": {},
   "source": [
    "## Try to submit as an HTML file"
   ]
  },
  {
   "attachments": {},
   "cell_type": "markdown",
   "metadata": {},
   "source": [
    "<font size=\"5\"> \n",
    "\n",
    "Print your Emory code below"
   ]
  },
  {
   "cell_type": "code",
   "execution_count": 1,
   "metadata": {},
   "outputs": [
    {
     "name": "stdout",
     "output_type": "stream",
     "text": [
      "2610436\n"
     ]
    }
   ],
   "source": [
    "# Write your answer here\n",
    "print(2610436)"
   ]
  },
  {
   "attachments": {},
   "cell_type": "markdown",
   "metadata": {},
   "source": [
    "<font size = \"5\" >\n",
    "This quiz is open book \n",
    "\n",
    "- You can use the lecture notes and Google\n",
    "- You will get partial credit for attempting the questions\n",
    "- To get full credit, the code should run as intended\n",
    "- You should <span style=\"color:red\"> NOT </span> communicate with other students\n",
    "\n",
    "Print the following message: <br>\n",
    "\n",
    "\"I will abide by Emory's code of conduct\"\n",
    "\n",
    "**By printing the message, you acknowledge that you will abide by Emory's code of conduct.**"
   ]
  },
  {
   "cell_type": "code",
   "execution_count": 2,
   "metadata": {},
   "outputs": [
    {
     "name": "stdout",
     "output_type": "stream",
     "text": [
      "I will abide by Emory's code of conduct\n"
     ]
    }
   ],
   "source": [
    "# Write your answer here:\n",
    "print(\"I will abide by Emory's code of conduct\")"
   ]
  },
  {
   "attachments": {},
   "cell_type": "markdown",
   "metadata": {},
   "source": [
    "<font size = \"5\">\n",
    "\n",
    "Import the libraries \"numpy\", \"matplotlib.pyplot\", and \"pandas\""
   ]
  },
  {
   "cell_type": "code",
   "execution_count": 3,
   "metadata": {},
   "outputs": [],
   "source": [
    "# Write your answer here\n",
    "\n",
    "import pandas as pd\n",
    "import numpy as np\n",
    "import matplotlib.pyplot as plt"
   ]
  },
  {
   "attachments": {},
   "cell_type": "markdown",
   "metadata": {},
   "source": [
    "<font size = \"5\">\n",
    "\n",
    "Import the dataset \"data_quiz/fifa23_players_basic.csv\"\n",
    "\n",
    "- It's a dataset on professional soccer players\n",
    "- Rows correspond to players (18,539)\n",
    "- Columns contain attributes of players (32)\n",
    "- Try to view the dataset before starting"
   ]
  },
  {
   "cell_type": "code",
   "execution_count": 4,
   "metadata": {},
   "outputs": [],
   "source": [
    "# Write your own code\n",
    "Dataset=pd.read_csv(\"data_quiz/fifa23_players_basic.csv\")"
   ]
  },
  {
   "attachments": {},
   "cell_type": "markdown",
   "metadata": {},
   "source": [
    "<font size = \"5\">\n",
    "\n",
    "(a) Create a function and apply it to a column <br>\n",
    "\n",
    "<font size = \"3\">\n",
    "\n",
    "Step 1:\n",
    "- Define a function with a parameter \"overall\"\n",
    "- If \"overall < 85\", status = \"Regular Player\"\n",
    "- If \"age_player >= 85\", status = \"Top Player\"\n",
    "- The function returns \"status\"\n",
    "\n",
    "Step 2:\n",
    "- Extract the column \"Overall\" in the dataset <br>\n",
    "(be carefeful to write the \"O\" capitalized)\n",
    "- Create a new variable called \"top_players\" <br>\n",
    "to assign each player to the correct status\n",
    "\n",
    "HINT: Use the \".apply()\" function"
   ]
  },
  {
   "cell_type": "code",
   "execution_count": 5,
   "metadata": {},
   "outputs": [],
   "source": [
    "# Write your own code\n",
    "def fn_playerstatus(overall):\n",
    "    if (overall<85):\n",
    "        status=\"Regular Player\"\n",
    "    if (overall>=85):\n",
    "        status=\"Top Player\"\n",
    "    return status\n",
    "\n",
    "Dataset[\"top_players\"]=Dataset[\"Overall\"].apply(fn_playerstatus)"
   ]
  },
  {
   "attachments": {},
   "cell_type": "markdown",
   "metadata": {},
   "source": [
    "<font size = \"5\">\n",
    "\n",
    "(b) Use queries + global variables\n",
    "\n",
    "<font size = \"3\">\n",
    "\n",
    "- Compute the mean of the column \"Wage(in Euro)\" <br>\n",
    "and store it as a variable\n",
    "- Subset the players whose value is above the mean value <br>\n",
    "  using \".query()\"\n",
    "\n",
    "\n",
    "HINT: Remember that there is a special syntax for <br>\n",
    "when the column names have spaces (see Lecture 9) <br>\n",
    "Reference the column as ``` `Wage(in Euro)`    ``` inside .query()"
   ]
  },
  {
   "cell_type": "code",
   "execution_count": 10,
   "metadata": {},
   "outputs": [],
   "source": [
    "# Write your own code\n",
    "wage_mean=Dataset[\"Wage(in Euro)\"].mean()\n",
    "above_mean_wage_players=Dataset.query('`Wage(in Euro)`>@wage_mean')"
   ]
  },
  {
   "attachments": {},
   "cell_type": "markdown",
   "metadata": {},
   "source": [
    "<font size = \"5\">\n",
    "\n",
    "(c) Use sorting + \".iloc[]\"\n",
    "\n",
    "<font size = \"3\">\n",
    "\n",
    "- Use \".sort_values()\" to order the \"Age\" column <br>\n",
    "from youngest to oldest\n",
    "- Get a subset with the 5 youngest players\n",
    "- Print their age"
   ]
  },
  {
   "cell_type": "code",
   "execution_count": 19,
   "metadata": {},
   "outputs": [
    {
     "name": "stdout",
     "output_type": "stream",
     "text": [
      "17956    16\n",
      "18014    16\n",
      "16084    16\n",
      "11481    16\n",
      "17591    16\n",
      "Name: Age, dtype: int64\n"
     ]
    }
   ],
   "source": [
    "# Write your own code\n",
    "Players_sorted=Dataset.sort_values(by = \"Age\", ascending=True)\n",
    "Youngest_players=Players_sorted.iloc[0:5]\n",
    "print(Youngest_players[\"Age\"])\n"
   ]
  },
  {
   "attachments": {},
   "cell_type": "markdown",
   "metadata": {},
   "source": [
    "<font size = \"5\">\n",
    "\n",
    "(d) Create a function with four inputs $f(y,x,b0,b1)$\n",
    "\n",
    "<font size = \"3\">\n",
    "\n",
    "$\\qquad e2 = (y - b_0 - b_1 * x)^2$\n",
    "\n",
    "- The function should return the mean of e2\n",
    "- This is the mean-square error (mse)\n",
    "- Call the function \"fn_mse\"\n",
    "- Let $y$ be the column \"Potential\"\n",
    "- Let $x$ be the column \"Age\" \n",
    "- Does <br>\n",
    "$\\qquad (b_0 = 80, b_1 = 0.4)$ or <br>\n",
    "$\\qquad (b_0 = 80, b_1 =-0.3)$ or <br>\n",
    "$\\qquad (b_0 = 80, b_1 = -0.5)$ <br>\n",
    "produce the lowest value of mse?\n",
    "- Print your results"
   ]
  },
  {
   "cell_type": "code",
   "execution_count": 22,
   "metadata": {},
   "outputs": [
    {
     "name": "stdout",
     "output_type": "stream",
     "text": [
      "412.1016840174767\n",
      "37.72189870003776\n",
      "49.43713253142025\n",
      "b0 = 80, b1 =-0.3 produces the lowest value of mse\n"
     ]
    }
   ],
   "source": [
    "# Write your own code\n",
    "def fn_mse(y,x,b0,b1):\n",
    "    e2=(y-b0-b1*x)**2\n",
    "    return e2.mean()\n",
    "\n",
    "y=Dataset[\"Potential\"]\n",
    "x=Dataset[\"Age\"]\n",
    "\n",
    "print(fn_mse(y,x,80,0.4))\n",
    "print(fn_mse(y,x,80,-0.3))\n",
    "print(fn_mse(y,x,80,-0.5))\n",
    "print(\"b0 = 80, b1 =-0.3 produces the lowest value of mse\")"
   ]
  },
  {
   "attachments": {},
   "cell_type": "markdown",
   "metadata": {},
   "source": [
    "<font size = \"5\">\n",
    "\n",
    "(e) Split a dataset into subsets\n",
    "\n",
    "<font size = \"3\">\n",
    "\n",
    "- Create ``` list_status = [0,1]```\n",
    "- Create ``` list_prob = [0.5, 0.5]```\n",
    "- Create a new variable $n$ with the number of rows of the dataset\n",
    "- Define a random seed that equals 42\n",
    "\n",
    "- Use \n",
    "```python\n",
    "    np.random.choice(list_status,\n",
    "                     size = n,\n",
    "                     p = list_prob)\n",
    "```\n",
    "$\\qquad$ to create a new column called \"status\" <br>\n",
    "$\\qquad$ which randomly assigns each row to \"0\" or \"1\" <br>\n",
    "$\\qquad$ with equal probability\n",
    "- Use .query() to subset all observations with status == 0.<br>\n",
    "store it in a new dataset called \"data0\"\n",
    "- Use .query() to subset all observations with status == 1.<br>\n",
    "store it in a new dataset called \"data1\"\n",
    "\n"
   ]
  },
  {
   "cell_type": "code",
   "execution_count": 21,
   "metadata": {},
   "outputs": [],
   "source": [
    "# Write your own code\n",
    "list_status = [0,1]\n",
    "list_prob = [0.5, 0.5]\n",
    "n=len(Dataset)\n",
    "np.random.seed(42)\n",
    "Dataset[\"status\"] = np.random.choice(list_status, size = n, p = list_prob)\n",
    "data0=Dataset.query('status==0')\n",
    "data1=Dataset.query('status==1')"
   ]
  },
  {
   "attachments": {},
   "cell_type": "markdown",
   "metadata": {},
   "source": [
    "<font size = \"5\">\n",
    "\n",
    "(f) Create two overlapping histogram plots\n",
    "\n",
    "<font size = \"3\">\n",
    "\n",
    "- This question requires the two datasets you created in (e)\n",
    "- Display the distribution of \"Age\" for \"data0\" and \"data1\"\n",
    "- Use the \"alpha\" option to make the graphs semitransparent\n",
    "- You will need to add a legend, label the axes, and the title\n",
    "\n",
    "Note: The goal of this question is to illustrate that random <br>\n",
    "assignment produces very similar distributions between two groups\n",
    "\n",
    "- Provide a short interpretation of the graph using the information from the Note"
   ]
  },
  {
   "cell_type": "code",
   "execution_count": 26,
   "metadata": {},
   "outputs": [
    {
     "data": {
      "image/png": "[encoded data removed]",
      "text/plain": [
       "<Figure size 640x480 with 1 Axes>"
      ]
     },
     "metadata": {},
     "output_type": "display_data"
    },
    {
     "name": "stdout",
     "output_type": "stream",
     "text": [
      "It can be seen from the graph that the distribution of age of the two groups, which are assigned randomly, are similar. This supports the idea that random assignment produces very similar distribution between two groups. Therefore, randomization is a good approach for scientific research. \n"
     ]
    }
   ],
   "source": [
    "# Write your own code\n",
    "plt.hist(x = data0[\"Age\"], alpha=0.5)\n",
    "plt.hist(x = data1[\"Age\"], alpha=0.5)\n",
    "\n",
    "plt.xlabel(\"Age\")\n",
    "plt.ylabel(\"Frequency\")\n",
    "plt.legend(labels = [\"Data of group 0\", \"Data of group 1\"])\n",
    "plt.title('Age of randomized players')\n",
    "plt.show()\n",
    "\n",
    "print(\"It can be seen from the graph that the distribution of age of the two groups, which are assigned randomly, are similar. This supports the idea that random assignment produces very similar distribution between two groups. Therefore, randomization is a good approach for scientific research. \")"
   ]
  }
 ],
 "metadata": {
  "kernelspec": {
   "display_name": "base",
   "language": "python",
   "name": "python3"
  },
  "language_info": {
   "codemirror_mode": {
    "name": "ipython",
    "version": 3
   },
   "file_extension": ".py",
   "mimetype": "text/x-python",
   "name": "python",
   "nbconvert_exporter": "python",
   "pygments_lexer": "ipython3",
   "version": "3.11.4"
  },
  "orig_nbformat": 4,
  "vscode": {
   "interpreter": {
    "hash": "45fc1f684f6f416f40889115beff3ddf69879b64cf4bfee48cb72a61e9d15d1a"
   }
  }
 },
 "nbformat": 4,
 "nbformat_minor": 2
}
